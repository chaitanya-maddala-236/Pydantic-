{
 "cells": [
  {
   "cell_type": "code",
   "execution_count": null,
   "id": "e89a2b34",
   "metadata": {},
   "outputs": [],
   "source": []
  },
  {
   "cell_type": "markdown",
   "id": "9de22249",
   "metadata": {},
   "source": [
    "# Pydantic \n"
   ]
  },
  {
   "cell_type": "markdown",
   "id": "8516f1eb",
   "metadata": {},
   "source": [
    "pydantic models are the foundation of data validatino in Python . They use python type annotation to define the structure and validate data at runtime. Here's a detailed exploration of basic model creatin with several example."
   ]
  },
  {
   "cell_type": "markdown",
   "id": "4b7adc7e",
   "metadata": {},
   "source": [
    "from pydantic import BaseModel"
   ]
  },
  {
   "cell_type": "code",
   "execution_count": 3,
   "id": "df523890",
   "metadata": {},
   "outputs": [],
   "source": [
    "from pydantic import BaseModel"
   ]
  },
  {
   "cell_type": "markdown",
   "id": "d9701d0e",
   "metadata": {},
   "source": []
  },
  {
   "cell_type": "code",
   "execution_count": 4,
   "id": "f5a92a04",
   "metadata": {},
   "outputs": [],
   "source": [
    "class Person(BaseModel):\n",
    "    name:str\n",
    "    age: int \n",
    "    city: str \n",
    "    \n",
    "person=Person(name=\"chai\",\n",
    "age=34,city =\"Hyd\")"
   ]
  },
  {
   "cell_type": "code",
   "execution_count": 5,
   "id": "e3d327dd",
   "metadata": {},
   "outputs": [
    {
     "data": {
      "text/plain": [
       "__main__.Person"
      ]
     },
     "execution_count": 5,
     "metadata": {},
     "output_type": "execute_result"
    }
   ],
   "source": [
    "type(person)"
   ]
  },
  {
   "cell_type": "code",
   "execution_count": 6,
   "id": "b511817a",
   "metadata": {},
   "outputs": [
    {
     "data": {
      "text/plain": [
       "Person(name='chai', age=34, city='Hyd')"
      ]
     },
     "execution_count": 6,
     "metadata": {},
     "output_type": "execute_result"
    }
   ],
   "source": [
    "person"
   ]
  },
  {
   "cell_type": "markdown",
   "id": "27433018",
   "metadata": {},
   "source": [
    "### model with optional fieldsd\n"
   ]
  },
  {
   "cell_type": "code",
   "execution_count": 12,
   "id": "384608a6",
   "metadata": {},
   "outputs": [],
   "source": [
    "from typing import Optional, List\n",
    "class ClassRoom(BaseModel):\n",
    "   roomNumber: str\n",
    "   students: List[str]\n",
    "   capcity: int"
   ]
  },
  {
   "cell_type": "code",
   "execution_count": 18,
   "id": "c2fabd83",
   "metadata": {},
   "outputs": [],
   "source": [
    "littleClassRoom= ClassRoom(\n",
    "    roomNumber=\"a101\",\n",
    "    students=['a','b'],\n",
    "    capcity=34\n",
    ")"
   ]
  },
  {
   "cell_type": "markdown",
   "id": "3c8f55c3",
   "metadata": {},
   "source": []
  },
  {
   "cell_type": "code",
   "execution_count": 19,
   "id": "7b1389b2",
   "metadata": {},
   "outputs": [
    {
     "name": "stdout",
     "output_type": "stream",
     "text": [
      "roomNumber='a101' students=['a', 'b'] capcity=34\n"
     ]
    }
   ],
   "source": [
    "print(littleClassRoom)"
   ]
  },
  {
   "cell_type": "code",
   "execution_count": 20,
   "id": "ae45d3af",
   "metadata": {},
   "outputs": [],
   "source": [
    "# creating a complex sturcture with nested models:"
   ]
  },
  {
   "cell_type": "code",
   "execution_count": 21,
   "id": "6a4d94f9",
   "metadata": {},
   "outputs": [],
   "source": [
    "from pydantic import BaseModel"
   ]
  },
  {
   "cell_type": "code",
   "execution_count": 22,
   "id": "57c6db2a",
   "metadata": {},
   "outputs": [],
   "source": [
    "class Address(BaseModel):\n",
    "    street: str\n",
    "    city: str\n",
    "    zip_code: str \n",
    "class Customer(BaseModel):\n",
    "    customer: int \n",
    "    name: str \n",
    "    address : Address "
   ]
  },
  {
   "cell_type": "code",
   "execution_count": 25,
   "id": "8b7cfb8c",
   "metadata": {},
   "outputs": [],
   "source": [
    "customer=Customer(\n",
    "    customer=1,\n",
    "    name=\"Chai\",\n",
    "    address={\"street\":\"abc\",\"city\":\"012\",\"zip_code\":\"hero\"}\n",
    ")"
   ]
  },
  {
   "cell_type": "code",
   "execution_count": 26,
   "id": "1b26efb5",
   "metadata": {},
   "outputs": [
    {
     "data": {
      "text/plain": [
       "Customer(customer=1, name='Chai', address=Address(street='abc', city='012', zip_code='hero'))"
      ]
     },
     "execution_count": 26,
     "metadata": {},
     "output_type": "execute_result"
    }
   ],
   "source": [
    "customer"
   ]
  },
  {
   "cell_type": "markdown",
   "id": "0316a07a",
   "metadata": {},
   "source": [
    "### Pydantic Fields : Customization and Cosntraints\n",
    "\n",
    "The Field funciton in Pydantic enhances model fields beyond basic type hints by allowing you to specify validation rules, default values,aliases, and more. Here's a comprehensive tutorial with examples. "
   ]
  },
  {
   "cell_type": "markdown",
   "id": "81b5c281",
   "metadata": {},
   "source": []
  },
  {
   "cell_type": "code",
   "execution_count": 28,
   "id": "d0c856d4",
   "metadata": {},
   "outputs": [],
   "source": [
    "from pydantic import BaseModel , Field \n",
    "class Item(BaseModel):\n",
    "    name:str=Field(min=2,max_length=30)\n",
    "    price:float=Field(gt=3,le=200)\n",
    "    quantity:int=Field(gt=3)\n",
    "\n",
    "\n",
    "item=Item(name=\"book\",price=23,quantity=8)"
   ]
  },
  {
   "cell_type": "code",
   "execution_count": 29,
   "id": "39179ec9",
   "metadata": {},
   "outputs": [
    {
     "name": "stdout",
     "output_type": "stream",
     "text": [
      "name='book' price=23.0 quantity=8\n"
     ]
    }
   ],
   "source": [
    "print(item)"
   ]
  },
  {
   "cell_type": "code",
   "execution_count": null,
   "id": "dc3bd5d5",
   "metadata": {},
   "outputs": [],
   "source": [
    "form pydantic import Basemodel, field "
   ]
  }
 ],
 "metadata": {
  "kernelspec": {
   "display_name": "Python 3",
   "language": "python",
   "name": "python3"
  },
  "language_info": {
   "codemirror_mode": {
    "name": "ipython",
    "version": 3
   },
   "file_extension": ".py",
   "mimetype": "text/x-python",
   "name": "python",
   "nbconvert_exporter": "python",
   "pygments_lexer": "ipython3",
   "version": "3.12.0"
  }
 },
 "nbformat": 4,
 "nbformat_minor": 5
}
